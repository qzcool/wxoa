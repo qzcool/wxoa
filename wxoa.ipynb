{
  "cells": [
    {
      "cell_type": "markdown",
      "source": [
        "# 步骤\n",
        "1. 函数封装\n",
        "2. API:打包为Pip/Conda\n",
        "3. Django:网页服务"
      ],
      "metadata": {}
    },
    {
      "cell_type": "code",
      "source": [
        "import pandas as pd\n",
        "from bs4 import BeautifulSoup\n",
        "from fake_useragent import UserAgent\n",
        "import requests, time, re, math, openpyxl, datetime, os, shutil, psutil\n",
        "from tqdm import *\n",
        "import xlwings as xw\n",
        "from selenium import webdriver\n",
        "#from splinter import Browser\n",
        "#from pandas.io.json import json_normalize\n",
        "\n",
        "# Def get position function: 增加程序对数据源结构变化的稳定性\n",
        "def f_p(df, feature):\n",
        "    feature_list = df.iloc[:,0].get_values().tolist() # 第一列为特征名称，Index为连续自然数\n",
        "    return [i for i,x in enumerate(feature_list) if x == feature][0]\n",
        "\n",
        "# Def Check Nan Function\n",
        "# https://stackoverflow.com/questions/944700/how-can-i-check-for-nan-in-python\n",
        "def is_nan(x):\n",
        "    return isinstance(x, float) and math.isnan(x)\n",
        "\n",
        "# Get current file path for migration consistency\n",
        "path = os.getcwd().replace('\\\\','/') #r'%s' % os.getcwd().replace('\\\\','/')\n",
        "\n",
        "# 定义函数：从文本中根据数字类型提取Int或者Float数值\n",
        "def find_number(text):\n",
        "    if len(re.findall(r'\\.',text)) == 0:\n",
        "        return float(re.findall(r'\\d+',text.replace(\",\", \"\"))[0])\n",
        "    else:\n",
        "        return float(re.findall(r'\\d+\\.\\d+',text.replace(\",\", \"\"))[0])"
      ],
      "outputs": [],
      "execution_count": 1,
      "metadata": {
        "collapsed": false,
        "outputHidden": false,
        "inputHidden": false
      }
    },
    {
      "cell_type": "code",
      "source": [
        "keywords = ['个股期权','期权','场外期权','衍生品','杠杆','配资']"
      ],
      "outputs": [],
      "execution_count": 2,
      "metadata": {
        "collapsed": false,
        "outputHidden": false,
        "inputHidden": false
      }
    },
    {
      "cell_type": "code",
      "source": [
        "def get_accounts(keywords):\n",
        "    df = pd.DataFrame(columns=['关键字','公众号名称','公众号网址','功能介绍','微信认证','最近文章'])\n",
        "\n",
        "    # type1:公众号搜索；type2:文章搜索\n",
        "    try:\n",
        "        for keyword in tqdm(keywords):\n",
        "            url = 'http://weixin.sogou.com/weixin?type=1&query='+keyword\n",
        "            headers = {'User-Agent': UserAgent().random}\n",
        "            r = requests.get(url,headers)\n",
        "            r.encoding = 'utf-8'\n",
        "            soup = BeautifulSoup(r.text,'lxml')\n",
        "            page_numbers = len(soup.find('div',class_='p-fy',id='pagebar_container').find_all('a'))\n",
        "\n",
        "            for p in range(page_numbers):\n",
        "                url = 'http://weixin.sogou.com/weixin?type=1&page='+str(p)+'&query='+'个股期权'\n",
        "                r = requests.get(url,headers)\n",
        "                r.encoding = 'utf-8'\n",
        "                soup = BeautifulSoup(r.text,'lxml')\n",
        "\n",
        "                for i in range(len(soup.find_all('li',id=True))):\n",
        "                    if len(soup.find_all('li',id=True)[i].find_all('dl')) == 1:\n",
        "                        df = df.append({'关键字':keyword,\\\n",
        "                                        '公众号名称':soup.find_all('li',id=True)[i].find_all('a',target=\"_blank\")[1].get_text(),\\\n",
        "                                        '功能介绍':soup.find_all('li',id=True)[i].find_all('dl')[0].get_text().replace('\\n功能介绍：\\n','').replace('\\n','')\\\n",
        "                                       },ignore_index=True)\n",
        "                    elif len(soup.find_all('li',id=True)[i].find_all('dl')) == 2:\n",
        "                        df = df.append({'关键字':keyword,\\\n",
        "                                        '公众号名称':soup.find_all('li',id=True)[i].find_all('a',target=\"_blank\")[1].get_text(),\\\n",
        "                                        '功能介绍':soup.find_all('li',id=True)[i].find_all('dl')[0].get_text().replace('\\n功能介绍：\\n','').replace('\\n',''),\\\n",
        "                                        '最近文章':soup.find_all('li',id=True)[i].find_all('dl')[1].get_text().split('\\n\\n')[1].split('document')[0]\\\n",
        "                                       },ignore_index=True)\n",
        "                    else:\n",
        "                        df = df.append({'关键字':keyword,\\\n",
        "                                        '公众号名称':soup.find_all('li',id=True)[i].find_all('a',target=\"_blank\")[1].get_text(),\\\n",
        "                                        '功能介绍':soup.find_all('li',id=True)[i].find_all('dl')[0].get_text().replace('\\n功能介绍：\\n','').replace('\\n',''),\\\n",
        "                                        '微信认证':soup.find_all('li',id=True)[i].find_all('dl')[1].get_text().split('：\\n')[1][:-1],\\\n",
        "                                        '最近文章':soup.find_all('li',id=True)[i].find_all('dl')[1].get_text().split('\\n\\n')[1].split('document')[0]\\\n",
        "                                       },ignore_index=True)\n",
        "                time.sleep(5)\n",
        "            time.sleep(5)\n",
        "    except AttributeError as e:\n",
        "        print ('访问过于频繁，请设置time.sleep()!', e)\n",
        "    finally:\n",
        "        return df"
      ],
      "outputs": [],
      "execution_count": 8,
      "metadata": {
        "collapsed": false,
        "outputHidden": false,
        "inputHidden": false
      }
    },
    {
      "cell_type": "code",
      "source": [
        "get_accounts(keywords) #keywords为list"
      ],
      "outputs": [
        {
          "output_type": "stream",
          "name": "stderr",
          "text": [
            " 67%|██████▋   | 4/6 [03:53<01:56, 58.46s/it]"
          ]
        },
        {
          "output_type": "stream",
          "name": "stdout",
          "text": [
            "访问过于频繁，请设置time.sleep()! 'NoneType' object has no attribute 'find_all'\n"
          ]
        }
      ],
      "execution_count": 9,
      "metadata": {
        "collapsed": false,
        "outputHidden": false,
        "inputHidden": false
      }
    },
    {
      "cell_type": "code",
      "source": [
        "df"
      ],
      "outputs": [
        {
          "output_type": "error",
          "ename": "NameError",
          "evalue": "name 'df' is not defined",
          "traceback": [
            "\u001b[1;31m---------------------------------------------------------------------------\u001b[0m",
            "\u001b[1;31mNameError\u001b[0m                                 Traceback (most recent call last)",
            "\u001b[1;32m<ipython-input-10-7ed0097d7e9e>\u001b[0m in \u001b[0;36m<module>\u001b[1;34m()\u001b[0m\n\u001b[1;32m----> 1\u001b[1;33m \u001b[0mdf\u001b[0m\u001b[1;33m\u001b[0m\u001b[0m\n\u001b[0m",
            "\u001b[1;31mNameError\u001b[0m: name 'df' is not defined"
          ]
        }
      ],
      "execution_count": 10,
      "metadata": {
        "collapsed": false,
        "outputHidden": false,
        "inputHidden": false
      }
    },
    {
      "cell_type": "code",
      "source": [
        "df.to_excel('期权公众号数据库.xlsx',encoding='gb18030')"
      ],
      "outputs": [],
      "execution_count": 7,
      "metadata": {
        "collapsed": false,
        "outputHidden": false,
        "inputHidden": false
      }
    }
  ],
  "metadata": {
    "kernel_info": {
      "name": "python3"
    },
    "kernelspec": {
      "name": "python3",
      "language": "python",
      "display_name": "Python 3"
    },
    "language_info": {
      "name": "python",
      "version": "3.6.4",
      "mimetype": "text/x-python",
      "codemirror_mode": {
        "name": "ipython",
        "version": 3
      },
      "pygments_lexer": "ipython3",
      "nbconvert_exporter": "python",
      "file_extension": ".py"
    },
    "nteract": {
      "version": "0.6.2"
    }
  },
  "nbformat": 4,
  "nbformat_minor": 4
}